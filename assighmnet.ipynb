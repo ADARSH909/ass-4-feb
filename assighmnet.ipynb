{
 "cells": [
  {
   "cell_type": "code",
   "execution_count": 1,
   "id": "12b34a7a-4c96-49cc-93af-7e1df302581d",
   "metadata": {},
   "outputs": [
    {
     "name": "stdout",
     "output_type": "stream",
     "text": [
      "[('Virat Kohli', 24936), ('Jack Kallis', 25534), ('Ricky Ponting', 27483), ('Sachin Tendulkar', 34357)]\n"
     ]
    }
   ],
   "source": [
    "#  Create a python program to sort the given list of tuples based on integer value using a \n",
    "# lambda function. \n",
    "\n",
    "l=[('Sachin Tendulkar', 34357), ('Ricky Ponting', 27483), ('Jack Kallis', 25534), ('Virat Kohli', 24936)]\n",
    "\n",
    "l.sort(key=lambda x:x[1])\n",
    "print(l)\n",
    "\n"
   ]
  },
  {
   "cell_type": "code",
   "execution_count": 9,
   "id": "6333484b-c528-4722-9311-9fef3c649deb",
   "metadata": {},
   "outputs": [
    {
     "name": "stdout",
     "output_type": "stream",
     "text": [
      "[1, 4, 9, 16, 25, 36, 49, 64, 81, 100]\n"
     ]
    }
   ],
   "source": [
    " # Write a Python Program to find the squares of all the numbers in the given list of integers using \n",
    "# lambda and map functions.\n",
    "\n",
    "lis=[1, 2, 3, 4, 5, 6, 7, 8, 9, 10]\n",
    "sq=map(lambda x : x**2,lis)\n",
    "print(list(sq))"
   ]
  },
  {
   "cell_type": "code",
   "execution_count": 11,
   "id": "6016c6f1-5ffd-4846-9a57-778d3dd61e95",
   "metadata": {},
   "outputs": [
    {
     "data": {
      "text/plain": [
       "('1', '2', '3', '4', '5', '6', '7', '8', '9', '10')"
      ]
     },
     "execution_count": 11,
     "metadata": {},
     "output_type": "execute_result"
    }
   ],
   "source": [
    "# Write a python program to convert the given list of integers into a tuple of strings. Use map and \n",
    "# lambda functions\n",
    "\n",
    "l1= [1, 2, 3, 4, 5, 6, 7, 8, 9, 10]\n",
    "\n",
    "t=map(lambda x: str(x),l1)\n",
    "tuple(t)\n"
   ]
  },
  {
   "cell_type": "code",
   "execution_count": 12,
   "id": "e62f695c-d68f-4a40-b788-e254faddf26c",
   "metadata": {},
   "outputs": [
    {
     "data": {
      "text/plain": [
       "15511210043330985984000000"
      ]
     },
     "execution_count": 12,
     "metadata": {},
     "output_type": "execute_result"
    }
   ],
   "source": [
    "#  Write a python program using reduce function to compute the product of a list containing numbers \n",
    "# from 1 to 25\n",
    "from functools import reduce\n",
    "l=[]\n",
    "for i in range(1,26):\n",
    "    l.append(i)\n",
    "\n",
    "reduce(lambda x,y:x*y,l)\n"
   ]
  },
  {
   "cell_type": "code",
   "execution_count": 13,
   "id": "9de5d60e-d39c-4529-a349-ec63792178bd",
   "metadata": {},
   "outputs": [
    {
     "name": "stdout",
     "output_type": "stream",
     "text": [
      "[2, 3, 6, 9, 27, 60, 90, 120, 46]\n"
     ]
    }
   ],
   "source": [
    "# Write a python program to filter the numbers in a given list that are divisible by 2 and 3 using the \n",
    "# filter function.\n",
    "\n",
    "\n",
    "l2=[2, 3, 6, 9, 27, 60, 90, 120, 55, 46]\n",
    "\n",
    "fil=filter(lambda x:x%2==0 or x%3==0,l2)\n",
    "print(list(fil))\n"
   ]
  },
  {
   "cell_type": "code",
   "execution_count": 14,
   "id": "ac5747e3-f719-4a8d-8f60-eebefec61c38",
   "metadata": {},
   "outputs": [
    {
     "data": {
      "text/plain": [
       "['php', 'aba', 'radar', 'level']"
      ]
     },
     "execution_count": 14,
     "metadata": {},
     "output_type": "execute_result"
    }
   ],
   "source": [
    "# Write a python program to find palindromes in the given list of strings using lambda and filter \n",
    "# function.\n",
    "\n",
    "\n",
    "txt=['python', 'php', 'aba', 'radar', 'level']\n",
    "result=list(filter(lambda x:(x==\"\".join(reversed(x))),txt))\n",
    "result"
   ]
  },
  {
   "cell_type": "code",
   "execution_count": null,
   "id": "c2f654b6-f1e9-4d27-a295-6b8e2cf3bdf3",
   "metadata": {},
   "outputs": [],
   "source": []
  }
 ],
 "metadata": {
  "kernelspec": {
   "display_name": "Python 3 (ipykernel)",
   "language": "python",
   "name": "python3"
  },
  "language_info": {
   "codemirror_mode": {
    "name": "ipython",
    "version": 3
   },
   "file_extension": ".py",
   "mimetype": "text/x-python",
   "name": "python",
   "nbconvert_exporter": "python",
   "pygments_lexer": "ipython3",
   "version": "3.10.8"
  }
 },
 "nbformat": 4,
 "nbformat_minor": 5
}
